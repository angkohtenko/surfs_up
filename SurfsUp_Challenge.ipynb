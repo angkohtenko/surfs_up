{
 "cells": [
  {
   "cell_type": "code",
   "execution_count": 41,
   "metadata": {},
   "outputs": [],
   "source": [
    "# Dependencies\n",
    "import numpy as np\n",
    "import pandas as pd\n",
    "\n",
    "# Python SQL toolkit and Object Relational Mapper\n",
    "import sqlalchemy\n",
    "from sqlalchemy.ext.automap import automap_base\n",
    "from sqlalchemy.orm import Session\n",
    "from sqlalchemy import create_engine, func"
   ]
  },
  {
   "cell_type": "code",
   "execution_count": 42,
   "metadata": {},
   "outputs": [],
   "source": [
    "engine = create_engine(\"sqlite:///hawaii.sqlite\")\n",
    "\n",
    "# reflect an existing database into a new model\n",
    "Base = automap_base()\n",
    "# reflect the tables\n",
    "Base.prepare(engine, reflect=True)\n",
    "\n",
    "# Save references to each table\n",
    "Measurement = Base.classes.measurement\n",
    "Station = Base.classes.station"
   ]
  },
  {
   "cell_type": "code",
   "execution_count": 43,
   "metadata": {},
   "outputs": [],
   "source": [
    "# Create our session (link) from Python to the DB\n",
    "session = Session(engine)"
   ]
  },
  {
   "cell_type": "markdown",
   "metadata": {},
   "source": [
    "## D1: Determine the Summary Statistics for June"
   ]
  },
  {
   "cell_type": "code",
   "execution_count": 44,
   "metadata": {},
   "outputs": [],
   "source": [
    "# Import the sqlalchemy extract function.\n",
    "from sqlalchemy import extract\n",
    "\n",
    "# Write a query that filters the Measurement table to retrieve the temperatures for the month of June. \n",
    "results = session.query(Measurement.tobs).filter((extract('month', Measurement.date) == 6))"
   ]
  },
  {
   "cell_type": "code",
   "execution_count": 45,
   "metadata": {},
   "outputs": [],
   "source": [
    "#  Convert the June temperatures to a list.\n",
    "results = results.all()"
   ]
  },
  {
   "cell_type": "code",
   "execution_count": 46,
   "metadata": {},
   "outputs": [
    {
     "output_type": "execute_result",
     "data": {
      "text/plain": [
       "      tobs\n",
       "0     78.0\n",
       "1     76.0\n",
       "2     78.0\n",
       "3     76.0\n",
       "4     77.0\n",
       "...    ...\n",
       "1695  79.0\n",
       "1696  74.0\n",
       "1697  74.0\n",
       "1698  76.0\n",
       "1699  75.0\n",
       "\n",
       "[1700 rows x 1 columns]"
      ],
      "text/html": "<div>\n<style scoped>\n    .dataframe tbody tr th:only-of-type {\n        vertical-align: middle;\n    }\n\n    .dataframe tbody tr th {\n        vertical-align: top;\n    }\n\n    .dataframe thead th {\n        text-align: right;\n    }\n</style>\n<table border=\"1\" class=\"dataframe\">\n  <thead>\n    <tr style=\"text-align: right;\">\n      <th></th>\n      <th>tobs</th>\n    </tr>\n  </thead>\n  <tbody>\n    <tr>\n      <th>0</th>\n      <td>78.0</td>\n    </tr>\n    <tr>\n      <th>1</th>\n      <td>76.0</td>\n    </tr>\n    <tr>\n      <th>2</th>\n      <td>78.0</td>\n    </tr>\n    <tr>\n      <th>3</th>\n      <td>76.0</td>\n    </tr>\n    <tr>\n      <th>4</th>\n      <td>77.0</td>\n    </tr>\n    <tr>\n      <th>...</th>\n      <td>...</td>\n    </tr>\n    <tr>\n      <th>1695</th>\n      <td>79.0</td>\n    </tr>\n    <tr>\n      <th>1696</th>\n      <td>74.0</td>\n    </tr>\n    <tr>\n      <th>1697</th>\n      <td>74.0</td>\n    </tr>\n    <tr>\n      <th>1698</th>\n      <td>76.0</td>\n    </tr>\n    <tr>\n      <th>1699</th>\n      <td>75.0</td>\n    </tr>\n  </tbody>\n</table>\n<p>1700 rows × 1 columns</p>\n</div>"
     },
     "metadata": {},
     "execution_count": 46
    }
   ],
   "source": [
    "# Create a DataFrame from the list of temperatures for the month of June. \n",
    "temp_june_df = pd.DataFrame(results, columns=['tobs'])\n",
    "temp_june_df"
   ]
  },
  {
   "cell_type": "code",
   "execution_count": 47,
   "metadata": {},
   "outputs": [
    {
     "output_type": "execute_result",
     "data": {
      "text/plain": [
       "              tobs\n",
       "count  1700.000000\n",
       "mean     74.944118\n",
       "std       3.257417\n",
       "min      64.000000\n",
       "25%      73.000000\n",
       "50%      75.000000\n",
       "75%      77.000000\n",
       "max      85.000000"
      ],
      "text/html": "<div>\n<style scoped>\n    .dataframe tbody tr th:only-of-type {\n        vertical-align: middle;\n    }\n\n    .dataframe tbody tr th {\n        vertical-align: top;\n    }\n\n    .dataframe thead th {\n        text-align: right;\n    }\n</style>\n<table border=\"1\" class=\"dataframe\">\n  <thead>\n    <tr style=\"text-align: right;\">\n      <th></th>\n      <th>tobs</th>\n    </tr>\n  </thead>\n  <tbody>\n    <tr>\n      <th>count</th>\n      <td>1700.000000</td>\n    </tr>\n    <tr>\n      <th>mean</th>\n      <td>74.944118</td>\n    </tr>\n    <tr>\n      <th>std</th>\n      <td>3.257417</td>\n    </tr>\n    <tr>\n      <th>min</th>\n      <td>64.000000</td>\n    </tr>\n    <tr>\n      <th>25%</th>\n      <td>73.000000</td>\n    </tr>\n    <tr>\n      <th>50%</th>\n      <td>75.000000</td>\n    </tr>\n    <tr>\n      <th>75%</th>\n      <td>77.000000</td>\n    </tr>\n    <tr>\n      <th>max</th>\n      <td>85.000000</td>\n    </tr>\n  </tbody>\n</table>\n</div>"
     },
     "metadata": {},
     "execution_count": 47
    }
   ],
   "source": [
    "# Calculate and print out the summary statistics for the June temperature DataFrame.\n",
    "temp_june_df.describe()"
   ]
  },
  {
   "cell_type": "markdown",
   "metadata": {},
   "source": [
    "## D2: Determine the Summary Statistics for December"
   ]
  },
  {
   "cell_type": "code",
   "execution_count": 48,
   "metadata": {},
   "outputs": [],
   "source": [
    "# Write a query that filters the Measurement table to retrieve the temperatures for the month of December.\n",
    "results = session.query(Measurement.tobs).filter((extract('month', Measurement.date) == 12))"
   ]
  },
  {
   "cell_type": "code",
   "execution_count": 49,
   "metadata": {},
   "outputs": [],
   "source": [
    "# Convert the December temperatures to a list.\n",
    "results = results.all()"
   ]
  },
  {
   "cell_type": "code",
   "execution_count": 50,
   "metadata": {},
   "outputs": [
    {
     "output_type": "execute_result",
     "data": {
      "text/plain": [
       "      tobs\n",
       "0     76.0\n",
       "1     74.0\n",
       "2     74.0\n",
       "3     64.0\n",
       "4     64.0\n",
       "...    ...\n",
       "1512  71.0\n",
       "1513  71.0\n",
       "1514  69.0\n",
       "1515  65.0\n",
       "1516  65.0\n",
       "\n",
       "[1517 rows x 1 columns]"
      ],
      "text/html": "<div>\n<style scoped>\n    .dataframe tbody tr th:only-of-type {\n        vertical-align: middle;\n    }\n\n    .dataframe tbody tr th {\n        vertical-align: top;\n    }\n\n    .dataframe thead th {\n        text-align: right;\n    }\n</style>\n<table border=\"1\" class=\"dataframe\">\n  <thead>\n    <tr style=\"text-align: right;\">\n      <th></th>\n      <th>tobs</th>\n    </tr>\n  </thead>\n  <tbody>\n    <tr>\n      <th>0</th>\n      <td>76.0</td>\n    </tr>\n    <tr>\n      <th>1</th>\n      <td>74.0</td>\n    </tr>\n    <tr>\n      <th>2</th>\n      <td>74.0</td>\n    </tr>\n    <tr>\n      <th>3</th>\n      <td>64.0</td>\n    </tr>\n    <tr>\n      <th>4</th>\n      <td>64.0</td>\n    </tr>\n    <tr>\n      <th>...</th>\n      <td>...</td>\n    </tr>\n    <tr>\n      <th>1512</th>\n      <td>71.0</td>\n    </tr>\n    <tr>\n      <th>1513</th>\n      <td>71.0</td>\n    </tr>\n    <tr>\n      <th>1514</th>\n      <td>69.0</td>\n    </tr>\n    <tr>\n      <th>1515</th>\n      <td>65.0</td>\n    </tr>\n    <tr>\n      <th>1516</th>\n      <td>65.0</td>\n    </tr>\n  </tbody>\n</table>\n<p>1517 rows × 1 columns</p>\n</div>"
     },
     "metadata": {},
     "execution_count": 50
    }
   ],
   "source": [
    "# Create a DataFrame from the list of temperatures for the month of December. \n",
    "temp_december_df = pd.DataFrame(results, columns=['tobs'])\n",
    "temp_december_df"
   ]
  },
  {
   "cell_type": "code",
   "execution_count": 51,
   "metadata": {},
   "outputs": [
    {
     "output_type": "execute_result",
     "data": {
      "text/plain": [
       "              tobs\n",
       "count  1517.000000\n",
       "mean     71.041529\n",
       "std       3.745920\n",
       "min      56.000000\n",
       "25%      69.000000\n",
       "50%      71.000000\n",
       "75%      74.000000\n",
       "max      83.000000"
      ],
      "text/html": "<div>\n<style scoped>\n    .dataframe tbody tr th:only-of-type {\n        vertical-align: middle;\n    }\n\n    .dataframe tbody tr th {\n        vertical-align: top;\n    }\n\n    .dataframe thead th {\n        text-align: right;\n    }\n</style>\n<table border=\"1\" class=\"dataframe\">\n  <thead>\n    <tr style=\"text-align: right;\">\n      <th></th>\n      <th>tobs</th>\n    </tr>\n  </thead>\n  <tbody>\n    <tr>\n      <th>count</th>\n      <td>1517.000000</td>\n    </tr>\n    <tr>\n      <th>mean</th>\n      <td>71.041529</td>\n    </tr>\n    <tr>\n      <th>std</th>\n      <td>3.745920</td>\n    </tr>\n    <tr>\n      <th>min</th>\n      <td>56.000000</td>\n    </tr>\n    <tr>\n      <th>25%</th>\n      <td>69.000000</td>\n    </tr>\n    <tr>\n      <th>50%</th>\n      <td>71.000000</td>\n    </tr>\n    <tr>\n      <th>75%</th>\n      <td>74.000000</td>\n    </tr>\n    <tr>\n      <th>max</th>\n      <td>83.000000</td>\n    </tr>\n  </tbody>\n</table>\n</div>"
     },
     "metadata": {},
     "execution_count": 51
    }
   ],
   "source": [
    "# Calculate and print out the summary statistics for the Decemeber temperature DataFrame.\n",
    "temp_december_df.describe()"
   ]
  },
  {
   "source": [
    "## D3: Additional queries"
   ],
   "cell_type": "markdown",
   "metadata": {}
  },
  {
   "cell_type": "code",
   "execution_count": 58,
   "metadata": {},
   "outputs": [
    {
     "output_type": "execute_result",
     "data": {
      "text/plain": [
       "       precipitation\n",
       "count    1574.000000\n",
       "mean        0.136360\n",
       "std         0.335731\n",
       "min         0.000000\n",
       "25%         0.000000\n",
       "50%         0.020000\n",
       "75%         0.120000\n",
       "max         4.430000"
      ],
      "text/html": "<div>\n<style scoped>\n    .dataframe tbody tr th:only-of-type {\n        vertical-align: middle;\n    }\n\n    .dataframe tbody tr th {\n        vertical-align: top;\n    }\n\n    .dataframe thead th {\n        text-align: right;\n    }\n</style>\n<table border=\"1\" class=\"dataframe\">\n  <thead>\n    <tr style=\"text-align: right;\">\n      <th></th>\n      <th>precipitation</th>\n    </tr>\n  </thead>\n  <tbody>\n    <tr>\n      <th>count</th>\n      <td>1574.000000</td>\n    </tr>\n    <tr>\n      <th>mean</th>\n      <td>0.136360</td>\n    </tr>\n    <tr>\n      <th>std</th>\n      <td>0.335731</td>\n    </tr>\n    <tr>\n      <th>min</th>\n      <td>0.000000</td>\n    </tr>\n    <tr>\n      <th>25%</th>\n      <td>0.000000</td>\n    </tr>\n    <tr>\n      <th>50%</th>\n      <td>0.020000</td>\n    </tr>\n    <tr>\n      <th>75%</th>\n      <td>0.120000</td>\n    </tr>\n    <tr>\n      <th>max</th>\n      <td>4.430000</td>\n    </tr>\n  </tbody>\n</table>\n</div>"
     },
     "metadata": {},
     "execution_count": 58
    }
   ],
   "source": [
    "# precipitation level for June\n",
    "results = session.query(Measurement.prcp).filter((extract('month', Measurement.date) == 6)).all()\n",
    "prcp_june_df = pd.DataFrame(results, columns=['precipitation'])\n",
    "prcp_june_df.describe()"
   ]
  },
  {
   "cell_type": "code",
   "execution_count": 59,
   "metadata": {},
   "outputs": [
    {
     "output_type": "execute_result",
     "data": {
      "text/plain": [
       "       precipitation\n",
       "count    1405.000000\n",
       "mean        0.216819\n",
       "std         0.541399\n",
       "min         0.000000\n",
       "25%         0.000000\n",
       "50%         0.030000\n",
       "75%         0.150000\n",
       "max         6.420000"
      ],
      "text/html": "<div>\n<style scoped>\n    .dataframe tbody tr th:only-of-type {\n        vertical-align: middle;\n    }\n\n    .dataframe tbody tr th {\n        vertical-align: top;\n    }\n\n    .dataframe thead th {\n        text-align: right;\n    }\n</style>\n<table border=\"1\" class=\"dataframe\">\n  <thead>\n    <tr style=\"text-align: right;\">\n      <th></th>\n      <th>precipitation</th>\n    </tr>\n  </thead>\n  <tbody>\n    <tr>\n      <th>count</th>\n      <td>1405.000000</td>\n    </tr>\n    <tr>\n      <th>mean</th>\n      <td>0.216819</td>\n    </tr>\n    <tr>\n      <th>std</th>\n      <td>0.541399</td>\n    </tr>\n    <tr>\n      <th>min</th>\n      <td>0.000000</td>\n    </tr>\n    <tr>\n      <th>25%</th>\n      <td>0.000000</td>\n    </tr>\n    <tr>\n      <th>50%</th>\n      <td>0.030000</td>\n    </tr>\n    <tr>\n      <th>75%</th>\n      <td>0.150000</td>\n    </tr>\n    <tr>\n      <th>max</th>\n      <td>6.420000</td>\n    </tr>\n  </tbody>\n</table>\n</div>"
     },
     "metadata": {},
     "execution_count": 59
    }
   ],
   "source": [
    "# precipitation level for December\n",
    "results = session.query(Measurement.prcp).filter((extract('month', Measurement.date) == 12)).all()\n",
    "prcp_december_df = pd.DataFrame(results, columns=['precipitation'])\n",
    "prcp_december_df.describe()"
   ]
  },
  {
   "cell_type": "code",
   "execution_count": 66,
   "metadata": {},
   "outputs": [
    {
     "output_type": "execute_result",
     "data": {
      "text/plain": [
       "[('2010-06-01', 9.799999999999997),\n",
       " ('2011-06-01', 50.910000000000004),\n",
       " ('2012-06-01', 18.830000000000002),\n",
       " ('2013-06-01', 29.560000000000002),\n",
       " ('2014-06-01', 24.74999999999999),\n",
       " ('2015-06-01', 23.53),\n",
       " ('2016-06-01', 36.730000000000004),\n",
       " ('2017-06-01', 20.519999999999996)]"
      ]
     },
     "metadata": {},
     "execution_count": 66
    }
   ],
   "source": [
    "# total precipitation for June grouped by year\n",
    "session.query(Measurement.date, func.sum(Measurement.prcp)).group_by(extract('year', Measurement.date)).filter((extract('month', Measurement.date) == 6)).order_by(Measurement.date.asc()).all()"
   ]
  },
  {
   "cell_type": "code",
   "execution_count": 65,
   "metadata": {},
   "outputs": [
    {
     "output_type": "execute_result",
     "data": {
      "text/plain": [
       "[('2010-12-01', 105.59000000000007),\n",
       " ('2011-12-01', 43.34000000000002),\n",
       " ('2012-12-01', 18.099999999999998),\n",
       " ('2013-12-01', 36.0),\n",
       " ('2014-12-01', 38.63),\n",
       " ('2015-12-01', 27.460000000000004),\n",
       " ('2016-12-01', 35.509999999999984)]"
      ]
     },
     "metadata": {},
     "execution_count": 65
    }
   ],
   "source": [
    "# total precipitation for December grouped by year\n",
    "session.query(Measurement.date, func.sum(Measurement.prcp)).group_by(extract('year', Measurement.date)).filter((extract('month', Measurement.date) == 12)).order_by(Measurement.date.asc()).all()"
   ]
  },
  {
   "cell_type": "code",
   "execution_count": 86,
   "metadata": {},
   "outputs": [
    {
     "output_type": "execute_result",
     "data": {
      "text/plain": [
       "[('2011-06-04', 13),\n",
       " ('2012-06-20', 2),\n",
       " ('2013-06-26', 6),\n",
       " ('2014-06-09', 4),\n",
       " ('2015-06-30', 6),\n",
       " ('2016-06-01', 7),\n",
       " ('2017-06-15', 1)]"
      ]
     },
     "metadata": {},
     "execution_count": 86
    }
   ],
   "source": [
    "# count precipitation for June grouped by year\n",
    "session.query(Measurement.date, func.count(Measurement.prcp)).group_by(extract('year', Measurement.date)).filter(Measurement.prcp >= 1).filter((extract('month', Measurement.date) == 6)).order_by(Measurement.date.asc()).all()"
   ]
  },
  {
   "cell_type": "code",
   "execution_count": 87,
   "metadata": {},
   "outputs": [
    {
     "output_type": "execute_result",
     "data": {
      "text/plain": [
       "[('2010-12-10', 33),\n",
       " ('2011-12-13', 11),\n",
       " ('2012-12-05', 3),\n",
       " ('2013-12-02', 14),\n",
       " ('2014-12-04', 15),\n",
       " ('2015-12-19', 4),\n",
       " ('2016-12-02', 8)]"
      ]
     },
     "metadata": {},
     "execution_count": 87
    }
   ],
   "source": [
    "# count precipitation for December grouped by year\n",
    "session.query(Measurement.date, func.count(Measurement.prcp)).group_by(extract('year', Measurement.date)).filter(Measurement.prcp >= 1).filter((extract('month', Measurement.date) == 12)).order_by(Measurement.date.asc()).all()"
   ]
  },
  {
   "cell_type": "code",
   "execution_count": null,
   "metadata": {},
   "outputs": [],
   "source": []
  }
 ],
 "metadata": {
  "kernelspec": {
   "name": "pythondata",
   "display_name": "Python 3.8.5 64-bit ('PythonData': conda)"
  },
  "language_info": {
   "codemirror_mode": {
    "name": "ipython",
    "version": 3
   },
   "file_extension": ".py",
   "mimetype": "text/x-python",
   "name": "python",
   "nbconvert_exporter": "python",
   "pygments_lexer": "ipython3",
   "version": "3.8.5-final"
  }
 },
 "nbformat": 4,
 "nbformat_minor": 2
}